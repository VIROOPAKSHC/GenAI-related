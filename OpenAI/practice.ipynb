{
 "cells": [
  {
   "cell_type": "code",
   "execution_count": 1,
   "id": "371bc9c8",
   "metadata": {},
   "outputs": [
    {
     "name": "stdout",
     "output_type": "stream",
     "text": [
      "Requirement already satisfied: openai in /usr/local/python/3.12.1/lib/python3.12/site-packages (1.75.0)\n",
      "Requirement already satisfied: anyio<5,>=3.5.0 in /home/codespace/.local/lib/python3.12/site-packages (from openai) (4.9.0)\n",
      "Requirement already satisfied: distro<2,>=1.7.0 in /usr/local/python/3.12.1/lib/python3.12/site-packages (from openai) (1.9.0)\n",
      "Requirement already satisfied: httpx<1,>=0.23.0 in /home/codespace/.local/lib/python3.12/site-packages (from openai) (0.28.1)\n",
      "Requirement already satisfied: jiter<1,>=0.4.0 in /usr/local/python/3.12.1/lib/python3.12/site-packages (from openai) (0.9.0)\n",
      "Requirement already satisfied: pydantic<3,>=1.9.0 in /usr/local/python/3.12.1/lib/python3.12/site-packages (from openai) (2.11.3)\n",
      "Requirement already satisfied: sniffio in /home/codespace/.local/lib/python3.12/site-packages (from openai) (1.3.1)\n",
      "Requirement already satisfied: tqdm>4 in /usr/local/python/3.12.1/lib/python3.12/site-packages (from openai) (4.67.1)\n",
      "Requirement already satisfied: typing-extensions<5,>=4.11 in /home/codespace/.local/lib/python3.12/site-packages (from openai) (4.12.2)\n",
      "Requirement already satisfied: idna>=2.8 in /home/codespace/.local/lib/python3.12/site-packages (from anyio<5,>=3.5.0->openai) (3.10)\n",
      "Requirement already satisfied: certifi in /home/codespace/.local/lib/python3.12/site-packages (from httpx<1,>=0.23.0->openai) (2025.1.31)\n",
      "Requirement already satisfied: httpcore==1.* in /home/codespace/.local/lib/python3.12/site-packages (from httpx<1,>=0.23.0->openai) (1.0.7)\n",
      "Requirement already satisfied: h11<0.15,>=0.13 in /home/codespace/.local/lib/python3.12/site-packages (from httpcore==1.*->httpx<1,>=0.23.0->openai) (0.14.0)\n",
      "Requirement already satisfied: annotated-types>=0.6.0 in /usr/local/python/3.12.1/lib/python3.12/site-packages (from pydantic<3,>=1.9.0->openai) (0.7.0)\n",
      "Requirement already satisfied: pydantic-core==2.33.1 in /usr/local/python/3.12.1/lib/python3.12/site-packages (from pydantic<3,>=1.9.0->openai) (2.33.1)\n",
      "Requirement already satisfied: typing-inspection>=0.4.0 in /usr/local/python/3.12.1/lib/python3.12/site-packages (from pydantic<3,>=1.9.0->openai) (0.4.0)\n"
     ]
    }
   ],
   "source": [
    "!pip install openai"
   ]
  },
  {
   "cell_type": "code",
   "execution_count": null,
   "id": "e6db6707",
   "metadata": {},
   "outputs": [],
   "source": [
    "# Create the OpenAI client\n",
    "from openai import OpenAI\n",
    "from os import environ\n",
    "\n",
    "client = OpenAI(api_key=environ['OPENAI'])\n",
    "\n",
    "# Create the request\n",
    "response = client.chat.completions.create(\n",
    "  model=\"gpt-4o-mini\",\n",
    "  messages=[\n",
    "   {\"role\": \"user\", \"content\": \"I have these notes with book titles and authors: New releases this week! The Beholders by Hester Musson, The Mystery Guest by Nita Prose. Please organize the titles and authors in a json file.\"}\n",
    "  ],\n",
    "  # Specify the response format\n",
    "  response_format = {'type':'json_object'}\n",
    ")\n",
    "\n",
    "# Print the response\n",
    "print(response.choices[0].message.content)"
   ]
  },
  {
   "cell_type": "code",
   "execution_count": null,
   "id": "8ccd4c6c",
   "metadata": {},
   "outputs": [],
   "source": [
    "message = {'role': 'user',\n",
    " 'content': 'Here are some made-up addresses and company names, write them in json format. PurpleLabs Solutions, 123 Main Street, Suite 100, Anytown, USA. InnovateNow Enterprises, 789 Oak Avenue, Suite 300, Innovation City, USA. PeakPerformance Inc., 456 Elm Street, Suite 200, Dreamville, USA'}\n",
    "# Use the try statement\n",
    "from openai import AuthenticationError\n",
    "\n",
    "try:\n",
    "    response = client.chat.completions.create(\n",
    "    model=\"gpt-4o-mini\",\n",
    "    messages=[message])\n",
    "    # Print the response\n",
    "    print(response.choices[0].message.content)\n",
    "# Use the except statement\n",
    "except AuthenticationError as e:\n",
    "    print(\"Please double check your authentication key and try again, the one provided is not valid.\")"
   ]
  },
  {
   "cell_type": "code",
   "execution_count": null,
   "id": "435f4b97",
   "metadata": {},
   "outputs": [],
   "source": [
    "# Import the tenacity library\n",
    "from tenacity import retry,wait_random_exponential, stop_after_attempt\n",
    "\n",
    "\n",
    "# Add the appropriate parameters to the decorator\n",
    "@retry(wait=wait_random_exponential(min=5,max=40), stop=stop_after_attempt(4))\n",
    "def get_response(model, message):\n",
    "    response = client.chat.completions.create(\n",
    "      model=model,\n",
    "      messages=[message]\n",
    "    )\n",
    "    return response.choices[0].message.content\n",
    "print(get_response(\"gpt-4o-mini\", {\"role\": \"user\", \"content\": \"List ten holiday destinations.\"}))"
   ]
  },
  {
   "cell_type": "code",
   "execution_count": null,
   "id": "38dc2fea",
   "metadata": {},
   "outputs": [],
   "source": [
    "measurements = [5.2, 6.3, 3.7]\n",
    "\n",
    "messages = []\n",
    "# Provide a system message and user messages to send the batch\n",
    "messages.append({'role':'system','content':'Generate conversion from kilometers to miles of the given measurement requests in batches and present the results as a table of both the original and converted measurements.'})\n",
    "# Append measurements to the message\n",
    "[messages.append({'role':'user','content': f'{i}'}) for i in measurements]\n",
    "\n",
    "response = get_response(messages)\n",
    "print(response)"
   ]
  },
  {
   "cell_type": "code",
   "execution_count": null,
   "id": "c668ae06",
   "metadata": {},
   "outputs": [],
   "source": [
    "import tiktoken\n",
    "input_message = {\"role\": \"user\", \"content\": \"I'd like to buy a shirt and a jacket. Can you suggest two color pairings for these items?\"}\n",
    "\n",
    "# Use tiktoken to create the encoding for your model\n",
    "encoding = tiktoken.encoding_for_model('gpt-4o-mini')\n",
    "# Check for the number of tokens\n",
    "num_tokens = len(encoding.encode(input_message['content']))\n",
    "\n",
    "# Run the chat completions function and print the response\n",
    "if num_tokens <= 100:\n",
    "    response = client.chat.completions.create(model=\"gpt-4o-mini\", messages=[input_message])\n",
    "    print(response.choices[0].message.content)\n",
    "else:\n",
    "    print(\"Message exceeds token limit\")"
   ]
  },
  {
   "cell_type": "code",
   "execution_count": null,
   "id": "801ee51e",
   "metadata": {},
   "outputs": [],
   "source": [
    "message_listing = [{'role': 'system',\n",
    "  'content': \"Don't make assumptions about what values to plug into functions. Ask for clarification if a user request is ambiguous.\"},\n",
    " {'role': 'user',\n",
    "  'content': 'Step into this beautiful two-story, single-family home located in Springfield, USA, priced at $350,000. This charming property features 4 bedrooms, 2.5 bathrooms, a spacious living room with a cozy fireplace, a modern kitchen with stainless steel appliances, and a large backyard perfect for family gatherings. The master bedroom includes an en-suite bathroom and a walk-in closet. Enjoy the convenience of an attached two-car garage and a recently updated HVAC system. Located near top-rated schools, parks, and shopping centers, this home is ideal for families looking for comfort and convenience.'}]\n",
    "\n",
    "function_definition = [{'type': 'function',\n",
    "  'function': {'name': 'real_estate_info',\n",
    "   'description': 'Get the information about homes for sale from the body of the input text',\n",
    "   'parameters': {'type': 'object',\n",
    "    'properties': {'home type': {'type': 'string', 'description': 'Home type'},\n",
    "     'location': {'type': 'string', 'description': 'Location'},\n",
    "     'price': {'type': 'integer', 'description': 'Price'},\n",
    "     'bedrooms': {'type': 'integer', 'description': 'Number of bedrooms'}}}}}]\n",
    "\n",
    "\n",
    "response= client.chat.completions.create(\n",
    "    model=\"gpt-4o-mini\",\n",
    "    # Add the message\n",
    "    messages=message_listing,\n",
    "    # Add your function definition\n",
    "    tools = function_definition\n",
    ")\n",
    "\n",
    "# Print the response\n",
    "print(response.choices[0].message.tool_calls[0].function.arguments)"
   ]
  },
  {
   "cell_type": "code",
   "execution_count": null,
   "id": "852423e4",
   "metadata": {},
   "outputs": [],
   "source": [
    "# Define the function parameter type\n",
    "function_definition[0]['function']['parameters']['type'] = 'object'\n",
    "\n",
    "# Define the function properties\n",
    "function_definition[0]['function']['parameters']['properties'] = {'title':{'type':'string','description':'Title of the paper'},'year':{'type':'string','description':'Year of the publication'}}\n",
    "\n",
    "response = get_response(messages, function_definition)\n",
    "print(response)"
   ]
  },
  {
   "cell_type": "code",
   "execution_count": null,
   "id": "74579d2e",
   "metadata": {},
   "outputs": [],
   "source": [
    "response = get_response(messages, function_definition)\n",
    "\n",
    "# Define the function to extract the data dictionary\n",
    "def extract_dictionary(response):\n",
    "  return response.choices[0].message.tool_calls[0].function.arguments\n",
    "\n",
    "# Print the data dictionary\n",
    "print(extract_dictionary(response))"
   ]
  },
  {
   "cell_type": "code",
   "execution_count": null,
   "id": "a09f4cc3",
   "metadata": {},
   "outputs": [],
   "source": [
    "response= client.chat.completions.create(\n",
    "    model='gpt-4o-mini',\n",
    "    messages=messages,\n",
    "    # Add the function definition\n",
    "    tools=function_definition,\n",
    "    # Specify the function to be called for the response\n",
    "    tool_choice={'type':'function','function':{'name':'extract_review_info'}}\n",
    ")\n",
    "\n",
    "# Print the response\n",
    "print(response.choices[0].message.tool_calls[0].function.arguments)"
   ]
  },
  {
   "cell_type": "code",
   "execution_count": null,
   "id": "abb4b35c",
   "metadata": {},
   "outputs": [],
   "source": [
    "\n",
    "# Define the function to pass to tools\n",
    "function_definition = [{\"type\": 'function',\n",
    "                        'function' : {\"name\": 'get_airport_info',\n",
    "                                'description': 'This function returns information on a matching airport code',\n",
    "                                'parameters': {\"type\": 'object', 'properties': {\"airport_code\": {'type':'string','description':'Returns the airport information given the aiport code'}, } }, \n",
    "                                \"result\": {'type':'string'}}}]\n",
    "\n",
    "response = get_response(function_definition)\n",
    "print(response)"
   ]
  },
  {
   "cell_type": "code",
   "execution_count": null,
   "metadata": {},
   "outputs": [],
   "source": [
    "\n",
    "# Call the Chat Completions endpoint \n",
    "response = client.chat.completions.create(\n",
    "  model=\"gpt-4o-mini\",\n",
    "  messages=[\n",
    "    {'role':'system','content':'You are in the aviation space now and you need to extract the corresponding airport code based on the user input.'},\n",
    "    {\"role\": 'user', \"content\": \"I'm planning to land a plane in JFK airport in New York and would like to have the corresponding information.\"}],\n",
    "  tools=function_definition)\n",
    "\n",
    "print(response)"
   ]
  },
  {
   "cell_type": "code",
   "execution_count": null,
   "id": "eea577d4",
   "metadata": {},
   "outputs": [],
   "source": [
    "if response.choices[0].finish_reason=='tool_calls':\n",
    "  function_call = response.choices[0].message.tool_calls[0].function\n",
    "  # Check function name\n",
    "  if function_call.name == 'get_airport_info':\n",
    "    # Extract airport code\n",
    "    code = json.loads(function_call.arguments)['airport code']\n",
    "    airport_info = get_airport_info(code)\n",
    "    print(airport_info)\n",
    "  else:\n",
    "    print(\"Apologies, I couldn't find any airport.\")\n",
    "else: \n",
    "  print(\"I am sorry, but I could not understand your request.\")"
   ]
  },
  {
   "cell_type": "code",
   "execution_count": null,
   "id": "86904705",
   "metadata": {},
   "outputs": [],
   "source": [
    "message = \"Can you show some example sentences in the past tense in French?\"\n",
    "\n",
    "# Use the moderation API\n",
    "moderation_response = (client.moderations.create(input=message))\n",
    "\n",
    "# Print the response\n",
    "print(moderation_response.results[0].categories.violence)"
   ]
  },
  {
   "cell_type": "code",
   "execution_count": null,
   "id": "19d90394",
   "metadata": {},
   "outputs": [],
   "source": [
    "import uuid\n",
    "\n",
    "# Generate a unique ID\n",
    "unique_id = str(uuid.uuid4())\n",
    "\n",
    "response = client.chat.completions.create(  \n",
    "  model=\"gpt-4o-mini\", \n",
    "  messages=messages,\n",
    "# Pass a user identification key\n",
    "  user = unique_id\n",
    ")\n",
    "\n",
    "print(response.choices[0].message.content)"
   ]
  },
  {
   "cell_type": "markdown",
   "id": "84a7fefb",
   "metadata": {},
   "source": [
    "### Embeddings OpenAI API"
   ]
  },
  {
   "cell_type": "code",
   "execution_count": null,
   "id": "8de95204",
   "metadata": {},
   "outputs": [],
   "source": [
    "# Create an OpenAI client\n",
    "client = OpenAI(api_key=\"<OPENAI_API_TOKEN>\")\n",
    "\n",
    "# Create a request to obtain embeddings\n",
    "response = client.embeddings.create(\n",
    "    model = 'text-embedding-3-small',\n",
    "    input = \"Something goes here\"\n",
    ")\n",
    "\n",
    "# Convert the response into a dictionary\n",
    "response_dict = response.model_dump()\n",
    "print(response_dict)\n",
    "print(response_dict['data'][0]['embedding'])"
   ]
  },
  {
   "cell_type": "code",
   "execution_count": null,
   "id": "f67ff699",
   "metadata": {},
   "outputs": [],
   "source": [
    "products = [{'title': 'Smartphone X1', 'short_description': 'The latest flagship smartphone with AI-powered features and 5G connectivity.', 'price': 799.99, 'category': 'Electronics', 'features': ['6.5-inch AMOLED display', 'Quad-camera system with 48MP main sensor', 'Face recognition and fingerprint sensor', 'Fast wireless charging']}]\n",
    "\n",
    "# Extract a list of product short descriptions from products\n",
    "product_descriptions = [product['short_description'] for product in products]\n",
    "\n",
    "# Create embeddings for each product description\n",
    "response = client.embeddings.create(\n",
    "    model = 'text-embedding-3-small',\n",
    "    input = product_descriptions\n",
    ")\n",
    "response_dict = response.model_dump()\n",
    "\n",
    "# Extract the embeddings from response_dict and store in products\n",
    "for i, product in enumerate(products):\n",
    "    product['embedding'] = response_dict['data'][0]['embedding']\n",
    "    \n",
    "print(products[0].items())"
   ]
  },
  {
   "cell_type": "code",
   "execution_count": null,
   "id": "140517fd",
   "metadata": {},
   "outputs": [],
   "source": []
  },
  {
   "cell_type": "code",
   "execution_count": null,
   "id": "e849603b",
   "metadata": {},
   "outputs": [],
   "source": [
    "# Create reviews and embeddings lists using list comprehensions\n",
    "from sklearn.manifold import TSNE\n",
    "import numpy as np\n",
    "import matplotlib.pyplot as plt\n",
    "\n",
    "categories = [product['category'] for product in products]\n",
    "embeddings = [product['embedding'] for product in products]\n",
    "\n",
    "# Reduce the number of embeddings dimensions to two using t-SNE\n",
    "tsne = TSNE(n_components=2, perplexity=5)\n",
    "embeddings_2d = tsne.fit_transform(np.array(embeddings))\n",
    "print(embeddings_2d.shape)\n",
    "# Create a scatter plot from embeddings_2d\n",
    "plt.scatter(embeddings_2d[:,0], embeddings_2d[:,1])\n",
    "\n",
    "for i, category in enumerate(categories):\n",
    "    plt.annotate(category, (embeddings_2d[i, 0], embeddings_2d[i, 1]))\n",
    "\n",
    "plt.show()"
   ]
  },
  {
   "cell_type": "code",
   "execution_count": null,
   "id": "5b512b39",
   "metadata": {},
   "outputs": [],
   "source": [
    "# Define a create_embeddings function\n",
    "def create_embeddings(texts):\n",
    "  response = client.embeddings.create(\n",
    "    model=\"text-embedding-3-small\",\n",
    "    input=texts\n",
    "  )\n",
    "  response_dict = response.model_dump()\n",
    "  \n",
    "  return [data['embedding'] for data in response_dict['data']]\n",
    "\n",
    "short_description = 'The latest flagship smartphone with AI-powered features and 5G connectivity.'\n",
    "list_of_descriptions = ['Charge your devices conveniently with this sleek wireless charging dock.',\n",
    " 'Elevate your skincare routine with this luxurious skincare set.']\n",
    "\n",
    "# Embed short_description and print\n",
    "print(create_embeddings(short_description)[0])\n",
    "\n",
    "# Embed list_of_descriptions and print\n",
    "print(create_embeddings(list_of_descriptions))"
   ]
  },
  {
   "cell_type": "code",
   "execution_count": null,
   "id": "1a045cb1",
   "metadata": {},
   "outputs": [],
   "source": [
    "# Embed the search text\n",
    "from scipy.spatial import distance\n",
    "search_text = \"soap\"\n",
    "search_embedding = create_embeddings(search_text)[0]\n",
    "\n",
    "distances = []\n",
    "for product in products:\n",
    "  # Compute the cosine distance for each product description\n",
    "  dist = distance.cosine(search_embedding, product['embedding'])\n",
    "  distances.append(dist)\n",
    "\n",
    "# Find and print the most similar product short_description    \n",
    "min_dist_ind = np.argmin(distances)\n",
    "print(products[min_dist_ind]['short_description'])"
   ]
  },
  {
   "cell_type": "code",
   "execution_count": null,
   "id": "005a2417",
   "metadata": {},
   "outputs": [],
   "source": [
    "# Define a function to combine the relevant features into a single string\n",
    "def create_product_text(product):\n",
    "  return f\"\"\"Title: {product['title']}\n",
    "Description: {product['short_description']}\n",
    "Category: {product['category']}\n",
    "Features: {'; '.join(product['features'])}\"\"\"\n",
    "\n",
    "# Combine the features for each product\n",
    "product_texts = [create_product_text(product) for product in products]\n",
    "\n",
    "# Create the embeddings from product_texts\n",
    "product_embeddings = create_embeddings(product_texts)"
   ]
  },
  {
   "cell_type": "code",
   "execution_count": null,
   "id": "b48f0eca",
   "metadata": {},
   "outputs": [],
   "source": [
    "def find_n_closest(query_vector, embeddings, n=3):\n",
    "  distances = []\n",
    "  for index, embedding in enumerate(embeddings):\n",
    "    # Calculate the cosine distance between the query vector and embedding\n",
    "    dist = distance.cosine(query_vector,embedding)\n",
    "    # Append the distance and index to distances\n",
    "    distances.append({\"distance\": dist, \"index\": index})\n",
    "  # Sort distances by the distance key\n",
    "  distances_sorted = sorted(distances,key=lambda x:x['distance'])\n",
    "  # Return the first n elements in distances_sorted\n",
    "  return distances_sorted[:n]"
   ]
  }
 ],
 "metadata": {
  "kernelspec": {
   "display_name": "Python 3",
   "language": "python",
   "name": "python3"
  },
  "language_info": {
   "codemirror_mode": {
    "name": "ipython",
    "version": 3
   },
   "file_extension": ".py",
   "mimetype": "text/x-python",
   "name": "python",
   "nbconvert_exporter": "python",
   "pygments_lexer": "ipython3",
   "version": "3.12.1"
  }
 },
 "nbformat": 4,
 "nbformat_minor": 5
}
